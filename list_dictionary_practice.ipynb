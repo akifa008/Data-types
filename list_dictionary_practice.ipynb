{
 "cells": [
  {
   "cell_type": "markdown",
   "id": "8eee6fed",
   "metadata": {},
   "source": [
    "# 1- List\n"
   ]
  },
  {
   "cell_type": "code",
   "execution_count": 30,
   "id": "b24d0aa5",
   "metadata": {},
   "outputs": [
    {
     "name": "stdout",
     "output_type": "stream",
     "text": [
      "['grapes', 'banana', 'kiwi', 'apple']\n",
      "banana\n",
      "Updated fruits list: ['grapes', 'banana', 'kiwi', 'apple', 'orange']\n"
     ]
    }
   ],
   "source": [
    "fruits = [\"grapes\", \"banana\", \"kiwi\", \"apple\"]\n",
    "\n",
    "print(fruits)\n",
    "\n",
    "print(fruits[1])\n",
    "\n",
    "fruits.append(\"orange\")\n",
    "\n",
    "print(\"Updated fruits list:\", fruits)\n"
   ]
  },
  {
   "cell_type": "markdown",
   "id": "8b934a88",
   "metadata": {},
   "source": [
    "# 2- Dictionaries"
   ]
  },
  {
   "cell_type": "code",
   "execution_count": 31,
   "id": "e5a2be3d",
   "metadata": {},
   "outputs": [
    {
     "name": "stdout",
     "output_type": "stream",
     "text": [
      "Student Info: {'name': 'Akifa', 'age': 16, 'grade': '11th'}\n",
      "Name: Akifa\n",
      "Updated Student Info: {'name': 'Akifa', 'age': 16, 'grade': '11th', 'school': 'The Oldham College'}\n"
     ]
    }
   ],
   "source": [
    "student = {\n",
    "    \"name\": \"Akifa\",\n",
    "    \"age\": 16,\n",
    "    \"grade\": \"11th\"\n",
    "}\n",
    "\n",
    "print(\"Student Info:\", student)\n",
    "\n",
    "print(\"Name:\", student[\"name\"])\n",
    "\n",
    "student[\"school\"] = \"The Oldham College\"\n",
    "\n",
    "print(\"Updated Student Info:\", student)\n"
   ]
  }
 ],
 "metadata": {
  "kernelspec": {
   "display_name": "base",
   "language": "python",
   "name": "python3"
  },
  "language_info": {
   "codemirror_mode": {
    "name": "ipython",
    "version": 3
   },
   "file_extension": ".py",
   "mimetype": "text/x-python",
   "name": "python",
   "nbconvert_exporter": "python",
   "pygments_lexer": "ipython3",
   "version": "3.12.7"
  }
 },
 "nbformat": 4,
 "nbformat_minor": 5
}
