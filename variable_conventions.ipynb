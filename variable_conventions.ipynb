{
 "cells": [
  {
   "cell_type": "markdown",
   "id": "77d8b170",
   "metadata": {},
   "source": [
    "# Assignment on Variable Naming Conventions\n",
    "\n",
    "**Student Name:** Akifa Usman\n",
    "\n",
  
    "**Roll Number:** 0011"
   ]
  },
  {
   "cell_type": "markdown",
   "id": "b5ae0b2b",
   "metadata": {},
   "source": [
    "## 1. Snake Case Example"
   ]
  },
  {
   "cell_type": "code",
   "execution_count": 4,
   "id": "264ed39c",
   "metadata": {},
   "outputs": [
    {
     "name": "stdout",
     "output_type": "stream",
     "text": [
      "Akifa\n",
      "Usman\n",
      "16\n"
     ]
    }
   ],
   "source": [
    "first_name = \"Akifa\"\n",
    "last_name = \"Usman\"\n",
    "student_age = 16\n",
    "\n",
    "print(first_name)\n",
    "print(last_name)\n",
    "print(student_age)"
   ]
  },
  {
   "cell_type": "markdown",
   "id": "9e736777",
   "metadata": {},
   "source": [
    "## 2. Camel Case Example"
   ]
  },
  {
   "cell_type": "code",
   "execution_count": 5,
   "id": "06bb3107",
   "metadata": {},
   "outputs": [
    {
     "name": "stdout",
     "output_type": "stream",
     "text": [
      "Akifa\n",
      "Usman\n",
      "16\n"
     ]
    }
   ],
   "source": [
    "firstName = \"Akifa\"\n",
    "lastName = \"Usman\"\n",
    "studentAge = 16\n",
    "\n",
    "print(firstName)\n",
    "print(lastName)\n",
    "print(studentAge)"
   ]
  },
  {
   "cell_type": "markdown",
   "id": "64c7f1a6",
   "metadata": {},
   "source": [
    "## 3. Pascal Case Example"
   ]
  },
  {
   "cell_type": "code",
   "execution_count": 8,
   "id": "4c29947d",
   "metadata": {},
   "outputs": [
    {
     "name": "stdout",
     "output_type": "stream",
     "text": [
      "Akifa\n",
      "Usman\n",
      "16\n"
     ]
    }
   ],
   "source": [
    "FirstName = \"Akifa\"\n",
    "LastName = \"Usman\"\n",
    "StudentAge = 16\n",
    "\n",
    "print(FirstName)\n",
    "print(LastName)\n",
    "print(StudentAge)"
   ]
  }
 ],
 "metadata": {
  "kernelspec": {
   "display_name": "base",
   "language": "python",
   "name": "python3"
  },
  "language_info": {
   "codemirror_mode": {
    "name": "ipython",
    "version": 3
   },
   "file_extension": ".py",
   "mimetype": "text/x-python",
   "name": "python",
   "nbconvert_exporter": "python",
   "pygments_lexer": "ipython3",
   "version": "3.12.7"
  }
 },
 "nbformat": 4,
 "nbformat_minor": 5
}
