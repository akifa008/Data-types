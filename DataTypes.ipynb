{
 "cells": [
  {
   "cell_type": "markdown",
   "id": "9ec3cdc5",
   "metadata": {},
   "source": [
    "# Data Types in Python"
   ]
  },
  {
   "cell_type": "markdown",
   "id": "8be28c42",
   "metadata": {},
   "source": [
    "## 1- Integer "
   ]
  },
  {
   "cell_type": "markdown",
   "id": "e8a59ad7",
   "metadata": {},
   "source": [
    "### Defination: Whole number without a decimal."
   ]
  },
  {
   "cell_type": "code",
   "execution_count": 1,
   "id": "d39fe0ae",
   "metadata": {},
   "outputs": [
    {
     "name": "stdout",
     "output_type": "stream",
     "text": [
      "16\n"
     ]
    }
   ],
   "source": [
    "my_age = 16\n",
    "print(my_age)     \n"
   ]
  },
  {
   "cell_type": "markdown",
   "id": "7c127eda",
   "metadata": {},
   "source": [
    "## 2- Float "
   ]
  },
  {
   "cell_type": "markdown",
   "id": "9d424435",
   "metadata": {},
   "source": [
    "### Defination: Number with a decimal point."
   ]
  },
  {
   "cell_type": "code",
   "execution_count": 2,
   "id": "b46bcdb8",
   "metadata": {},
   "outputs": [
    {
     "name": "stdout",
     "output_type": "stream",
     "text": [
      "1.63\n"
     ]
    }
   ],
   "source": [
    "my_height = 1.63\n",
    "print(my_height)    "
   ]
  },
  {
   "cell_type": "markdown",
   "id": "2e14f901",
   "metadata": {},
   "source": [
    "## 3- String"
   ]
  },
  {
   "cell_type": "markdown",
   "id": "4629ee54",
   "metadata": {},
   "source": [
    "### Defination: : Text or characters inside quotes."
   ]
  },
  {
   "cell_type": "code",
   "execution_count": 4,
   "id": "25b3cc2f",
   "metadata": {},
   "outputs": [
    {
     "name": "stdout",
     "output_type": "stream",
     "text": [
      "Akifa Usman\n"
     ]
    }
   ],
   "source": [
    "my_name = \"Akifa Usman\"\n",
    "print(my_name)"
   ]
  },
  {
   "cell_type": "markdown",
   "id": "12eaa931",
   "metadata": {},
   "source": [
    "## 4. Boolean"
   ]
  },
  {
   "cell_type": "markdown",
   "id": "2fd6f74a",
   "metadata": {},
   "source": [
    "### Defination: Value that is either True or False."
   ]
  },
  {
   "cell_type": "code",
   "execution_count": 5,
   "id": "a272fda0",
   "metadata": {},
   "outputs": [
    {
     "name": "stdout",
     "output_type": "stream",
     "text": [
      "True\n"
     ]
    }
   ],
   "source": [
    "is_student = True\n",
    "print(is_student)  \n"
   ]
  },
  {
   "cell_type": "markdown",
   "id": "80f801cd",
   "metadata": {},
   "source": [
    "## 5- List"
   ]
  },
  {
   "cell_type": "markdown",
   "id": "0fd96336",
   "metadata": {},
   "source": [
    "### Defination: Ordered collection of multiple items."
   ]
  },
  {
   "cell_type": "code",
   "execution_count": 6,
   "id": "44c8eaea",
   "metadata": {},
   "outputs": [
    {
     "name": "stdout",
     "output_type": "stream",
     "text": [
      "['Maths', 'English', 'Computer']\n"
     ]
    }
   ],
   "source": [
    "my_subjects = [\"Maths\", \"English\", \"Computer\"]\n",
    "print(my_subjects)\n"
   ]
  },
  {
   "cell_type": "markdown",
   "id": "811e32a9",
   "metadata": {},
   "source": [
    "## 6- Dictionary"
   ]
  },
  {
   "cell_type": "markdown",
   "id": "82aebd0d",
   "metadata": {},
   "source": [
    "### Definition: Collection of key-value pairs."
   ]
  },
  {
   "cell_type": "code",
   "execution_count": 9,
   "id": "71717e39",
   "metadata": {},
   "outputs": [
    {
     "name": "stdout",
     "output_type": "stream",
     "text": [
      "{'my_name': 'Akifa Usman', 'age': '16', 'subjects': ['Maths', 'English', 'Computer']}\n"
     ]
    }
   ],
   "source": [
    "my_profile = {\n",
    "    'my_name': 'Akifa Usman',\n",
    "    'age': '16',\n",
    "    'subjects': ['Maths', 'English', 'Computer']\n",
    "}\n",
    "print(my_profile)\n"
   ]
  }
 ],
 "metadata": {
  "kernelspec": {
   "display_name": "base",
   "language": "python",
   "name": "python3"
  },
  "language_info": {
   "codemirror_mode": {
    "name": "ipython",
    "version": 3
   },
   "file_extension": ".py",
   "mimetype": "text/x-python",
   "name": "python",
   "nbconvert_exporter": "python",
   "pygments_lexer": "ipython3",
   "version": "3.12.7"
  }
 },
 "nbformat": 4,
 "nbformat_minor": 5
}
